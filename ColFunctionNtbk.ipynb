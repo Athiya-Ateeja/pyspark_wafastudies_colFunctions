{
 "cells": [
  {
   "cell_type": "code",
   "execution_count": 0,
   "metadata": {
    "application/vnd.databricks.v1+cell": {
     "cellMetadata": {
      "byteLimit": 2048000,
      "rowLimit": 10000
     },
     "inputWidgets": {},
     "nuid": "19a846b4-810b-458d-9d01-66f05c1c27e1",
     "showTitle": false,
     "title": ""
    }
   },
   "outputs": [
    {
     "output_type": "stream",
     "name": "stdout",
     "output_type": "stream",
     "text": [
      "+---+------+------+\n| id|  name|salary|\n+---+------+------+\n|  1|athiya|  2000|\n|  2|Raheem|  3000|\n|  3| Rehan|  4000|\n+---+------+------+\n\n"
     ]
    }
   ],
   "source": [
    "data = [(1,'athiya',2000),\n",
    "        (2,'Raheem',3000),\n",
    "        (3,'Rehan',4000)]\n",
    "schema = ('id','name','salary')\n",
    "df=spark.createDataFrame(data,schema)\n",
    "df.show()"
   ]
  },
  {
   "cell_type": "markdown",
   "metadata": {
    "application/vnd.databricks.v1+cell": {
     "cellMetadata": {
      "byteLimit": 2048000,
      "rowLimit": 10000
     },
     "inputWidgets": {},
     "nuid": "a5fc26f0-f81b-4d87-b7bf-e4cfaed84f3b",
     "showTitle": false,
     "title": ""
    }
   },
   "source": [
    "##asc() & desc()"
   ]
  },
  {
   "cell_type": "code",
   "execution_count": 0,
   "metadata": {
    "application/vnd.databricks.v1+cell": {
     "cellMetadata": {
      "byteLimit": 2048000,
      "rowLimit": 10000
     },
     "inputWidgets": {},
     "nuid": "e3e48f8f-a5b3-49c4-bd43-05e8fdd5b963",
     "showTitle": false,
     "title": ""
    }
   },
   "outputs": [
    {
     "output_type": "stream",
     "name": "stdout",
     "output_type": "stream",
     "text": [
      "+---+------+------+\n| id|  name|salary|\n+---+------+------+\n|  1|athiya|  2000|\n|  2|Raheem|  3000|\n|  3| Rehan|  4000|\n+---+------+------+\n\n"
     ]
    }
   ],
   "source": [
    "df2 = df.sort(df.id.asc()).show()"
   ]
  },
  {
   "cell_type": "code",
   "execution_count": 0,
   "metadata": {
    "application/vnd.databricks.v1+cell": {
     "cellMetadata": {
      "byteLimit": 2048000,
      "rowLimit": 10000
     },
     "inputWidgets": {},
     "nuid": "f8312f4d-4ff6-4c59-9aec-48edebdd30b7",
     "showTitle": false,
     "title": ""
    }
   },
   "outputs": [],
   "source": [
    "df1 = df.sort(df.id.desc())"
   ]
  },
  {
   "cell_type": "code",
   "execution_count": 0,
   "metadata": {
    "application/vnd.databricks.v1+cell": {
     "cellMetadata": {
      "byteLimit": 2048000,
      "rowLimit": 10000
     },
     "inputWidgets": {},
     "nuid": "8780a97f-3476-4cc0-b525-cca480dd821c",
     "showTitle": false,
     "title": ""
    }
   },
   "outputs": [
    {
     "output_type": "stream",
     "name": "stdout",
     "output_type": "stream",
     "text": [
      "+---+------+------+\n| id|  name|salary|\n+---+------+------+\n|  3| Rehan|  4000|\n|  2|Raheem|  3000|\n|  1|athiya|  2000|\n+---+------+------+\n\n"
     ]
    }
   ],
   "source": [
    "df1.show()"
   ]
  },
  {
   "cell_type": "markdown",
   "metadata": {
    "application/vnd.databricks.v1+cell": {
     "cellMetadata": {
      "byteLimit": 2048000,
      "rowLimit": 10000
     },
     "inputWidgets": {},
     "nuid": "80a8774d-ff66-4f88-a6a6-a500d51cdad5",
     "showTitle": false,
     "title": ""
    }
   },
   "source": [
    "##alias()"
   ]
  },
  {
   "cell_type": "code",
   "execution_count": 0,
   "metadata": {
    "application/vnd.databricks.v1+cell": {
     "cellMetadata": {
      "byteLimit": 2048000,
      "rowLimit": 10000
     },
     "inputWidgets": {},
     "nuid": "78c0686f-80b7-4cfd-a5bf-662c2c5c9073",
     "showTitle": false,
     "title": ""
    }
   },
   "outputs": [
    {
     "output_type": "stream",
     "name": "stdout",
     "output_type": "stream",
     "text": [
      "+-------+---------+-----------+\n|User_ID|User_name|User_Salary|\n+-------+---------+-----------+\n|      1|   athiya|       2000|\n|      2|   Raheem|       3000|\n|      3|    Rehan|       4000|\n+-------+---------+-----------+\n\n"
     ]
    }
   ],
   "source": [
    "df=df.select(df.id.alias('User_ID'),df.name.alias('User_name'),df.salary.alias('User_Salary')).show()"
   ]
  },
  {
   "cell_type": "markdown",
   "metadata": {
    "application/vnd.databricks.v1+cell": {
     "cellMetadata": {
      "byteLimit": 2048000,
      "rowLimit": 10000
     },
     "inputWidgets": {},
     "nuid": "ed648bed-e498-4a62-837c-fb162214d17b",
     "showTitle": false,
     "title": ""
    }
   },
   "source": [
    "##cast()"
   ]
  },
  {
   "cell_type": "code",
   "execution_count": 0,
   "metadata": {
    "application/vnd.databricks.v1+cell": {
     "cellMetadata": {
      "byteLimit": 2048000,
      "rowLimit": 10000
     },
     "inputWidgets": {},
     "nuid": "e0c7e501-932b-42a7-b9b0-fe786e7f5412",
     "showTitle": false,
     "title": ""
    }
   },
   "outputs": [
    {
     "output_type": "stream",
     "name": "stdout",
     "output_type": "stream",
     "text": [
      "+---+------+------+\n| id|  name|salary|\n+---+------+------+\n|  1|athiya|  2000|\n|  2|Raheem|  3000|\n|  3| Rehan|  4000|\n+---+------+------+\n\nroot\n |-- id: long (nullable = true)\n |-- name: string (nullable = true)\n |-- salary: long (nullable = true)\n\n"
     ]
    }
   ],
   "source": [
    "data = [(1,'athiya',2000),\n",
    "        (2,'Raheem',3000),\n",
    "        (3,'Rehan',4000)]\n",
    "schema = ('id','name','salary')\n",
    "df=spark.createDataFrame(data,schema)\n",
    "df.show()\n",
    "df.printSchema()"
   ]
  },
  {
   "cell_type": "code",
   "execution_count": 0,
   "metadata": {
    "application/vnd.databricks.v1+cell": {
     "cellMetadata": {
      "byteLimit": 2048000,
      "rowLimit": 10000
     },
     "inputWidgets": {},
     "nuid": "994f9603-572d-4a48-a10a-ecaf6926f5a3",
     "showTitle": false,
     "title": ""
    }
   },
   "outputs": [],
   "source": [
    "df1 = df.select(df.id.cast('int'))"
   ]
  },
  {
   "cell_type": "code",
   "execution_count": 0,
   "metadata": {
    "application/vnd.databricks.v1+cell": {
     "cellMetadata": {
      "byteLimit": 2048000,
      "rowLimit": 10000
     },
     "inputWidgets": {},
     "nuid": "8e6c82ca-2fea-444a-9c7d-4bb933edbcb3",
     "showTitle": false,
     "title": ""
    }
   },
   "outputs": [
    {
     "output_type": "stream",
     "name": "stdout",
     "output_type": "stream",
     "text": [
      "root\n |-- id: integer (nullable = true)\n\n"
     ]
    }
   ],
   "source": [
    "df1.printSchema()"
   ]
  },
  {
   "cell_type": "markdown",
   "metadata": {
    "application/vnd.databricks.v1+cell": {
     "cellMetadata": {},
     "inputWidgets": {},
     "nuid": "59f16d3d-1225-4c99-b6c1-a7a9793469b6",
     "showTitle": false,
     "title": ""
    }
   },
   "source": [
    "##filter() & like()"
   ]
  },
  {
   "cell_type": "code",
   "execution_count": 0,
   "metadata": {
    "application/vnd.databricks.v1+cell": {
     "cellMetadata": {
      "byteLimit": 2048000,
      "rowLimit": 10000
     },
     "inputWidgets": {},
     "nuid": "b721a2c2-7f39-4e3e-bc97-5fee8226f76a",
     "showTitle": false,
     "title": ""
    }
   },
   "outputs": [],
   "source": [
    "df2 = df.filter(df.name.like('%a'))"
   ]
  },
  {
   "cell_type": "code",
   "execution_count": 0,
   "metadata": {
    "application/vnd.databricks.v1+cell": {
     "cellMetadata": {
      "byteLimit": 2048000,
      "rowLimit": 10000
     },
     "inputWidgets": {},
     "nuid": "96fb6da9-d588-4288-8592-378060dda278",
     "showTitle": false,
     "title": ""
    }
   },
   "outputs": [
    {
     "output_type": "stream",
     "name": "stdout",
     "output_type": "stream",
     "text": [
      "+---+------+------+\n| id|  name|salary|\n+---+------+------+\n|  1|athiya|  2000|\n+---+------+------+\n\n"
     ]
    }
   ],
   "source": [
    "df2.show()"
   ]
  }
 ],
 "metadata": {
  "application/vnd.databricks.v1+notebook": {
   "dashboards": [],
   "language": "python",
   "notebookMetadata": {
    "pythonIndentUnit": 4
   },
   "notebookName": "ColFunctionNtbk",
   "widgets": {}
  }
 },
 "nbformat": 4,
 "nbformat_minor": 0
}
